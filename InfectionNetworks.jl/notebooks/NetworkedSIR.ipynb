{
 "cells": [
  {
   "cell_type": "code",
   "execution_count": 99,
   "metadata": {},
   "outputs": [
    {
     "name": "stdout",
     "output_type": "stream",
     "text": [
      "\u001b[32m\u001b[1mActivating\u001b[22m\u001b[39m environment at `~/Projects/DynamicPopulations/Project.toml`\n"
     ]
    },
    {
     "data": {
      "text/plain": [
       "10-element Array{String,1}:\n",
       " \"#1f77b4\"\n",
       " \"#ff7f0e\"\n",
       " \"#2ca02c\"\n",
       " \"#d62728\"\n",
       " \"#9467bd\"\n",
       " \"#8c564b\"\n",
       " \"#e377c2\"\n",
       " \"#7f7f7f\"\n",
       " \"#bcbd22\"\n",
       " \"#17becf\""
      ]
     },
     "execution_count": 99,
     "metadata": {},
     "output_type": "execute_result"
    }
   ],
   "source": [
    "using Pkg\n",
    "Pkg.activate(\"..\")\n",
    "Pkg.instantiate()\n",
    "\n",
    "using DifferentialEquations, PyPlot, Statistics\n",
    "\n",
    "defaultcolors = plt.rcParams[\"axes.prop_cycle\"].by_key()[\"color\"]"
   ]
  },
  {
   "cell_type": "code",
   "execution_count": 111,
   "metadata": {},
   "outputs": [
    {
     "data": {
      "text/plain": [
       "Parameters (generic function with 3 methods)"
      ]
     },
     "execution_count": 111,
     "metadata": {},
     "output_type": "execute_result"
    }
   ],
   "source": [
    "struct Network{A}\n",
    "    transmission_rate :: A\n",
    "    edges :: A\n",
    "end\n",
    "\n",
    "Network(N; transmission_rate=0.1, edges=1) = Network(transmission_rate .* ones(N, N), edges .* ones(N, N))\n",
    "\n",
    "struct Infection{T}\n",
    "    pressure :: T # Infectious pressure on node i\n",
    "    recovery :: T # Recovery rate of node i\n",
    "end\n",
    "\n",
    "Infection(N; recovery_rate=0.1) = Infection(zeros(N), recovery_rate .* ones(N))\n",
    "\n",
    "Parameters(N; transmission_rate=0.1, recovery_rate=0.1, edges=1) = \n",
    "    (      network = Network(N, transmission_rate=transmission_rate),\n",
    "         infection = Infection(N, recovery_rate=recovery_rate),\n",
    "     scratch_space = zeros(N, N),\n",
    "        population = N\n",
    "    )"
   ]
  },
  {
   "cell_type": "code",
   "execution_count": 112,
   "metadata": {},
   "outputs": [
    {
     "data": {
      "text/plain": [
       "extract (generic function with 1 method)"
      ]
     },
     "execution_count": 112,
     "metadata": {},
     "output_type": "execute_result"
    }
   ],
   "source": [
    "function network_SIR!(dstates, states, parameters, time)\n",
    "    S = view(states, 1, :)\n",
    "    I = view(states, 2, :)\n",
    "    \n",
    "    @. parameters.scratch_space = parameters.network.edges * parameters.network.transmission_rate\n",
    "    \n",
    "    parameters.infection.pressure .= parameters.scratch_space * I\n",
    "    \n",
    "    @views @. dstates[1, :] = - parameters.infection.pressure * S\n",
    "    @views @. dstates[2, :] = parameters.infection.pressure * S - parameters.infection.recovery * I\n",
    "end\n",
    "\n",
    "function extract(solution)\n",
    "    nt = length(solution.t)\n",
    "    N = solution.prob.p.population\n",
    "    S = zeros(N, nt)\n",
    "    I = zeros(N, nt)\n",
    "\n",
    "    for j = 1:nt\n",
    "        for i = 1:N\n",
    "            S[i, j] = solution.u[j][1, i]\n",
    "            I[i, j] = solution.u[j][2, i]\n",
    "        end\n",
    "    end\n",
    "    \n",
    "    R = @. N - S - I\n",
    "\n",
    "    return solution.t, S, I, R\n",
    "end"
   ]
  },
  {
   "cell_type": "code",
   "execution_count": 121,
   "metadata": {},
   "outputs": [
    {
     "ename": "MethodError",
     "evalue": "MethodError: no method matching identity(::Int64, ::Int64)\nClosest candidates are:\n  identity(::Any) at operators.jl:502",
     "output_type": "error",
     "traceback": [
      "MethodError: no method matching identity(::Int64, ::Int64)\nClosest candidates are:\n  identity(::Any) at operators.jl:502",
      "",
      "Stacktrace:",
      " [1] top-level scope at In[121]:2"
     ]
    }
   ],
   "source": [
    "N = 100\n",
    "parameters = Parameters(N, recovery_rate=0.01, edges=identity(N, N))\n",
    "\n",
    "initial_state = zeros(2, N)\n",
    "initial_state[2, :] .= 0.1 * rand(N)           # Sprinkle some infected people around\n",
    "initial_state[1, :] .= N .- initial_state[2, :] # Nobody is recovered.\n",
    "\n",
    "problem = ODEProblem(network_sir!, initial_state, (0.0, 400.0), parameters)\n",
    "solution = solve(problem);"
   ]
  },
  {
   "cell_type": "code",
   "execution_count": 122,
   "metadata": {},
   "outputs": [
    {
     "data": {
      "text/plain": [
       "(:network, :infection, :scratch_space, :population)"
      ]
     },
     "execution_count": 122,
     "metadata": {},
     "output_type": "execute_result"
    }
   ],
   "source": [
    "propertynames(solution.prob.p)"
   ]
  },
  {
   "cell_type": "code",
   "execution_count": null,
   "metadata": {},
   "outputs": [],
   "source": []
  },
  {
   "cell_type": "code",
   "execution_count": 118,
   "metadata": {},
   "outputs": [
    {
     "data": {
      "image/png": "[encoded data removed]",
      "text/plain": [
       "Figure(PyObject <Figure size 640x480 with 1 Axes>)"
      ]
     },
     "metadata": {},
     "output_type": "display_data"
    },
    {
     "data": {
      "text/plain": [
       "PyObject <matplotlib.image.AxesImage object at 0x1be70e320>"
      ]
     },
     "execution_count": 118,
     "metadata": {},
     "output_type": "execute_result"
    }
   ],
   "source": [
    "t, S, I, R = extract(solution)\n",
    "\n",
    "imshow(log10.(I))"
   ]
  },
  {
   "cell_type": "code",
   "execution_count": null,
   "metadata": {},
   "outputs": [],
   "source": []
  },
  {
   "cell_type": "code",
   "execution_count": null,
   "metadata": {},
   "outputs": [],
   "source": []
  }
 ],
 "metadata": {
  "kernelspec": {
   "display_name": "Julia 1.3.1",
   "language": "julia",
   "name": "julia-1.3"
  },
  "language_info": {
   "file_extension": ".jl",
   "mimetype": "application/julia",
   "name": "julia",
   "version": "1.3.1"
  }
 },
 "nbformat": 4,
 "nbformat_minor": 4
}

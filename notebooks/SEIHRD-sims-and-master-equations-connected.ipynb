{
 "cells": [
  {
   "cell_type": "code",
   "execution_count": 1,
   "metadata": {},
   "outputs": [
    {
     "name": "stderr",
     "output_type": "stream",
     "text": [
      "/Users/agarbuno/anaconda2/envs/risknet/lib/python3.6/site-packages/ipykernel_launcher.py:9: TqdmExperimentalWarning: Using `tqdm.autonotebook.tqdm` in notebook mode. Use `tqdm.tqdm` instead to force console mode (e.g. in jupyter console)\n",
      "  if __name__ == '__main__':\n"
     ]
    }
   ],
   "source": [
    "import EoN\n",
    "import numpy as np\n",
    "import networkx as nx\n",
    "from collections import defaultdict\n",
    "import matplotlib.pyplot as plt\n",
    "import seaborn as sns\n",
    "import random\n",
    "\n",
    "from tqdm.autonotebook import tqdm\n",
    "import time\n",
    "\n",
    "plt.style.use('seaborn-white')\n",
    "sns.set_style(\"ticks\")\n",
    "sns.set_context(\"talk\")\n",
    "%matplotlib inline"
   ]
  },
  {
   "cell_type": "code",
   "execution_count": 2,
   "metadata": {},
   "outputs": [],
   "source": [
    "import sys\n",
    "sys.path.append('/Users/agarbuno/github-repos/collaborations/covid/risk-networks/risknet')"
   ]
  },
  {
   "cell_type": "code",
   "execution_count": 3,
   "metadata": {},
   "outputs": [],
   "source": [
    "%load_ext autoreload\n",
    "%autoreload 2\n",
    "import epimodels"
   ]
  },
  {
   "cell_type": "code",
   "execution_count": 4,
   "metadata": {},
   "outputs": [],
   "source": [
    "N = 10000\n",
    "G = nx.fast_gnp_random_graph(N, 5./(N-1))\n",
    "# G = nx.powerlaw_cluster_graph(N, 20, 5./(N-1))"
   ]
  },
  {
   "cell_type": "code",
   "execution_count": 5,
   "metadata": {},
   "outputs": [
    {
     "data": {
      "text/plain": [
       "(array([3.770e+02, 2.272e+03, 3.677e+03, 1.443e+03, 1.603e+03, 5.040e+02,\n",
       "        8.500e+01, 3.100e+01, 5.000e+00, 3.000e+00]),\n",
       " array([ 0. ,  1.7,  3.4,  5.1,  6.8,  8.5, 10.2, 11.9, 13.6, 15.3, 17. ]),\n",
       " <a list of 10 Patch objects>)"
      ]
     },
     "execution_count": 5,
     "metadata": {},
     "output_type": "execute_result"
    },
    {
     "data": {
      "image/png": "[encoded data removed]",
      "text/plain": [
       "<Figure size 432x288 with 1 Axes>"
      ]
     },
     "metadata": {
      "needs_background": "light"
     },
     "output_type": "display_data"
    }
   ],
   "source": [
    "plt.hist(np.array(list(dict(G.degree).values())))"
   ]
  },
  {
   "cell_type": "code",
   "execution_count": 6,
   "metadata": {},
   "outputs": [],
   "source": [
    "epistatic = epimodels.static(G, N)"
   ]
  },
  {
   "cell_type": "code",
   "execution_count": 7,
   "metadata": {},
   "outputs": [],
   "source": [
    "epistatic.init(beta = 0.04)"
   ]
  },
  {
   "cell_type": "code",
   "execution_count": 8,
   "metadata": {},
   "outputs": [],
   "source": [
    "# infected = range(200)\n",
    "infected = np.random.randint(N, size = 200)\n",
    "epistatic.init_infected(infected)"
   ]
  },
  {
   "cell_type": "code",
   "execution_count": 9,
   "metadata": {},
   "outputs": [
    {
     "data": {
      "application/vnd.jupyter.widget-view+json": {
       "model_id": "c4b0234c4dbf4d108a8d862889431942",
       "version_major": 2,
       "version_minor": 0
      },
      "text/plain": [
       "HBox(children=(FloatProgress(value=0.0, description='Simulations', max=50.0, style=ProgressStyle(description_w…"
      ]
     },
     "metadata": {},
     "output_type": "display_data"
    },
    {
     "name": "stdout",
     "output_type": "stream",
     "text": [
      "\n"
     ]
    }
   ],
   "source": [
    "nsims = 50\n",
    "sims  = []\n",
    "\n",
    "return_statuses = ('S', 'E', 'I', 'H', 'R', 'D')\n",
    "\n",
    "for kk in tqdm(np.arange(nsims), desc = 'Simulations'):\n",
    "    sim = epistatic.simulate(return_statuses)\n",
    "    sims.append(sim)"
   ]
  },
  {
   "cell_type": "code",
   "execution_count": null,
   "metadata": {},
   "outputs": [
    {
     "data": {
      "application/vnd.jupyter.widget-view+json": {
       "model_id": "e7f1b7c71ea24560ae0a1ef011f70dcd",
       "version_major": 2,
       "version_minor": 0
      },
      "text/plain": [
       "HBox(children=(FloatProgress(value=0.0, description='Simulations', max=50.0, style=ProgressStyle(description_w…"
      ]
     },
     "metadata": {},
     "output_type": "display_data"
    },
    {
     "name": "stdout",
     "output_type": "stream",
     "text": [
      "\n"
     ]
    }
   ],
   "source": [
    "fig, axes = plt.subplots(1, 2, figsize = (15, 4))\n",
    "alpha = .32\n",
    "\n",
    "\n",
    "for sim in tqdm(sims, desc = 'Simulations'):\n",
    "    times, states = sim.summary()\n",
    "    axes[0].plot(times, states['S'], color = 'C0', alpha = alpha)\n",
    "    axes[0].plot(times, states['R'], color = 'C4', alpha = alpha)\n",
    "    axes[0].plot(times, states['I'], color = 'C1', alpha = alpha)\n",
    "\n",
    "    axes[1].plot(times, states['E'], color = 'C3', alpha = alpha)\n",
    "    axes[1].plot(times, states['I'], color = 'C1', alpha = alpha)\n",
    "    axes[1].plot(times, states['H'], color = 'C2', alpha = alpha)\n",
    "    axes[1].plot(times, states['D'], color = 'C6', alpha = alpha)\n",
    "\n",
    "axes[0].legend(['Susceptible', 'Resistant', 'Infected'], \n",
    "               bbox_to_anchor=(0., 1.02, 1., .102), loc=3,\n",
    "               ncol=3, mode=\"expand\", borderaxespad=0.);\n",
    "axes[1].legend(['Exposed', 'Infected', 'Hospitalized', 'Death'], \n",
    "              bbox_to_anchor=(0., 1.02, 1., .102), loc=3,\n",
    "              ncol=4, mode=\"expand\", borderaxespad=0.);\n",
    "\n",
    "plt.tight_layout()"
   ]
  },
  {
   "cell_type": "code",
   "execution_count": null,
   "metadata": {},
   "outputs": [],
   "source": [
    "np.percentile(np.diff(sim.t()), q = [50, 90, 95, 99.999])"
   ]
  },
  {
   "cell_type": "code",
   "execution_count": null,
   "metadata": {},
   "outputs": [],
   "source": [
    "E, I, H, R, D = np.zeros([5, N])\n",
    "S = np.ones(N,)\n",
    "I[infected] = 1.\n",
    "S[infected] = 0."
   ]
  },
  {
   "cell_type": "code",
   "execution_count": null,
   "metadata": {},
   "outputs": [],
   "source": [
    "y0 = np.hstack((S, E, I, H, R, D))\n",
    "T = 300\n",
    "t = np.linspace(0,T,201)"
   ]
  },
  {
   "cell_type": "code",
   "execution_count": null,
   "metadata": {},
   "outputs": [],
   "source": [
    "start_time = time.time()\n",
    "\n",
    "epistatic.set_solver(T = T, dt = 30.)\n",
    "ke = epistatic.solve(y0, t)\n",
    "\n",
    "elapsed_time = time.time() - start_time\n",
    "tqdm.write('Runtime: ' + time.strftime(\"%H:%M:%S\", time.gmtime(elapsed_time)))"
   ]
  },
  {
   "cell_type": "code",
   "execution_count": null,
   "metadata": {},
   "outputs": [],
   "source": [
    "fig, axes = plt.subplots(1, 2, figsize = (15, 4))\n",
    "\n",
    "alpha = .5\n",
    "\n",
    "for sim in tqdm(sims, desc = 'Simulations'):\n",
    "    times, states = sim.summary()\n",
    "    axes[0].plot(times, states['S'], color = 'C0', alpha = alpha)\n",
    "    axes[0].plot(times, states['R'], color = 'C4', alpha = alpha)\n",
    "    axes[0].plot(times, states['I'], color = 'C1', alpha = alpha)\n",
    "    \n",
    "    axes[0].plot(t, N * ke.y.reshape(6, N, -1).mean(axis = 1)[0], color = 'white', linestyle = '-', linewidth = 4)\n",
    "    axes[0].plot(t, N * ke.y.reshape(6, N, -1).mean(axis = 1)[0], color = 'C0', linestyle = '--', linewidth = 2)\n",
    "    axes[0].plot(t, N * ke.y.reshape(6, N, -1).mean(axis = 1)[-2], color = 'white', linestyle = '-', linewidth = 4)\n",
    "    axes[0].plot(t, N * ke.y.reshape(6, N, -1).mean(axis = 1)[-2], color = 'C4', linestyle = '--')\n",
    "    axes[0].plot(t, N * ke.y.reshape(6, N, -1).mean(axis = 1)[2], color = 'white', linestyle = '-', linewidth = 4)\n",
    "    axes[0].plot(t, N * ke.y.reshape(6, N, -1).mean(axis = 1)[2], color = 'C1', linestyle = '--')\n",
    "    \n",
    "    axes[1].plot(times, states['E'], color = 'C3', alpha = alpha)\n",
    "    axes[1].plot(times, states['D'], color = 'C6', alpha = alpha)\n",
    "    axes[1].plot(times, states['I'], color = 'C1', alpha = alpha)\n",
    "    axes[1].plot(times, states['H'], color = 'C2', alpha = alpha)\n",
    "    \n",
    "    axes[1].plot(t, N * ke.y.reshape(6, N, -1).mean(axis = 1)[1], color = 'white', linestyle = '-', linewidth = 4)\n",
    "    axes[1].plot(t, N * ke.y.reshape(6, N, -1).mean(axis = 1)[1], color = 'C3', linestyle = '--')\n",
    "    axes[1].plot(t, N * ke.y.reshape(6, N, -1).mean(axis = 1)[2], color = 'white', linestyle = '-', linewidth = 4)\n",
    "    axes[1].plot(t, N * ke.y.reshape(6, N, -1).mean(axis = 1)[2], color = 'C1', linestyle = '--')\n",
    "    axes[1].plot(t, N * ke.y.reshape(6, N, -1).mean(axis = 1)[-3], color = 'white', linestyle = '-', linewidth = 4)\n",
    "    axes[1].plot(t, N * ke.y.reshape(6, N, -1).mean(axis = 1)[-3], color = 'C2', linestyle = '--')\n",
    "    axes[1].plot(t, N * ke.y.reshape(6, N, -1).mean(axis = 1)[-1], color = 'white', linestyle = '-', linewidth = 4)\n",
    "    axes[1].plot(t, N * ke.y.reshape(6, N, -1).mean(axis = 1)[-1], color = 'C6', linestyle = '--')\n",
    "    \n",
    "axes[0].legend(['Susceptible', 'Resistant', 'Infected'], \n",
    "               bbox_to_anchor=(0., 1.02, 1., .102), loc=3,\n",
    "               ncol=3, mode=\"expand\", borderaxespad=0.);\n",
    "axes[1].legend(['Exposed', 'Infected', 'Hospitalized', 'Death'], \n",
    "              bbox_to_anchor=(0., 1.02, 1., .102), loc=3,\n",
    "              ncol=4, mode=\"expand\", borderaxespad=0.);\n",
    "    \n",
    "for ax in axes:\n",
    "    ax.set_xlim(-1, 350)\n",
    "    \n",
    "plt.tight_layout()"
   ]
  }
 ],
 "metadata": {
  "kernelspec": {
   "display_name": "Python 3",
   "language": "python",
   "name": "python3"
  },
  "language_info": {
   "codemirror_mode": {
    "name": "ipython",
    "version": 3
   },
   "file_extension": ".py",
   "mimetype": "text/x-python",
   "name": "python",
   "nbconvert_exporter": "python",
   "pygments_lexer": "ipython3",
   "version": "3.6.10"
  }
 },
 "nbformat": 4,
 "nbformat_minor": 4
}

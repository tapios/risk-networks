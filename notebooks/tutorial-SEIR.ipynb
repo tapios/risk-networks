{
 "cells": [
  {
   "cell_type": "code",
   "execution_count": 17,
   "metadata": {},
   "outputs": [],
   "source": [
    "import EoN\n",
    "import networkx as nx\n",
    "from collections import defaultdict\n",
    "import matplotlib.pyplot as plt\n",
    "import random\n",
    "\n",
    "%matplotlib inline"
   ]
  },
  {
   "cell_type": "code",
   "execution_count": 27,
   "metadata": {},
   "outputs": [],
   "source": [
    "N = 10000\n",
    "G = nx.fast_gnp_random_graph(N, 5./(N-1))\n",
    "\n",
    "#they will vary in the rate of leaving exposed class.\n",
    "#and edges will vary in transition rate.\n",
    "#there is no variation in recovery rate.\n",
    "\n",
    "node_attribute_dict = {node: 0.5+random.random() for node in G.nodes()}\n",
    "edge_attribute_dict = {edge: 0.5+random.random() for edge in G.edges()}"
   ]
  },
  {
   "cell_type": "code",
   "execution_count": 28,
   "metadata": {},
   "outputs": [],
   "source": [
    "nx.set_node_attributes(G, values=node_attribute_dict, name='expose2infect_weight')\n",
    "nx.set_edge_attributes(G, values=edge_attribute_dict, name='transmission_weight')"
   ]
  },
  {
   "cell_type": "code",
   "execution_count": 29,
   "metadata": {},
   "outputs": [],
   "source": [
    "#These individual and partnership attributes will be used to scale\n",
    "#the transition rates.  When we define `H` and `J`, we provide the name\n",
    "#of these attributes.\n",
    "\n",
    "\n",
    "#We show how node and edge attributes in the contact network 'G' can be used\n",
    "#to scale the transmission rates.  More advanced techniques are shown in\n",
    "#other examples.\n",
    "H = nx.DiGraph()\n",
    "H.add_node('S') #This line is actually unnecessary since 'S' does not change status intrinsically\n",
    "#\n",
    "H.add_edge('E', 'I', rate = 0.6, weight_label='expose2infect_weight')\n",
    "#  The line above states that the transition from 'E' to 'I' occurs with rate\n",
    "#  0.6  times  whatever value is in the individual's attribute 'expose2infect_weight'\n",
    "#\n",
    "H.add_edge('I', 'R', rate = 0.1)\n",
    "#  The line above states that the I to 'R' transition occurs with rate 0.1\n",
    "#  and does not depend on any attribute"
   ]
  },
  {
   "cell_type": "code",
   "execution_count": 30,
   "metadata": {},
   "outputs": [],
   "source": [
    "J = nx.DiGraph()\n",
    "J.add_edge(('I', 'S'), ('I', 'E'), rate = 0.1, weight_label='transmission_weight')\n",
    "#  The line above states that an 'I' individual will cause an 'S' individual\n",
    "#  to transition to 'E' with rate equal to 0.1 times the partnership's attribute\n",
    "#  'transmission_weight'."
   ]
  },
  {
   "cell_type": "code",
   "execution_count": 31,
   "metadata": {},
   "outputs": [],
   "source": [
    "IC = defaultdict(lambda: 'S')\n",
    "for node in range(200):\n",
    "    IC[node] = 'I'"
   ]
  },
  {
   "cell_type": "code",
   "execution_count": 32,
   "metadata": {},
   "outputs": [],
   "source": [
    "return_statuses = ('S', 'E', 'I', 'R')\n",
    "\n",
    "# t, S, E, I, R = EoN.Gillespie_simple_contagion(\n",
    "res = EoN.Gillespie_simple_contagion(\n",
    "                    G,                           # Contact network.\n",
    "                    H,                           # Spontaneous transitions (without any nbr influence).\n",
    "                    J,                           # Neighbor induced transitions.\n",
    "                    IC,                          # Initial infected nodes\n",
    "                    return_statuses,             # \n",
    "                    return_full_data = True,\n",
    "                    tmax = float('Inf')          # Contact network\n",
    "                )"
   ]
  },
  {
   "cell_type": "code",
   "execution_count": 33,
   "metadata": {},
   "outputs": [
    {
     "data": {
      "image/png": "[encoded data removed]",
      "text/plain": [
       "<Figure size 432x288 with 1 Axes>"
      ]
     },
     "metadata": {
      "needs_background": "light"
     },
     "output_type": "display_data"
    }
   ],
   "source": [
    "plt.plot(res.t(), res.S(), label = 'Susceptible')\n",
    "plt.plot(res.t(), res.I(), label = 'Infected')\n",
    "plt.plot(res.t(), res.R(), label = 'Recovered')\n",
    "plt.plot(res.t(), N - (res.S() + res.I() + res.R()), label = 'Exposed')\n",
    "plt.legend();\n",
    "\n",
    "# plt.savefig('SEIR.png')"
   ]
  },
  {
   "cell_type": "code",
   "execution_count": 37,
   "metadata": {},
   "outputs": [
    {
     "data": {
      "text/plain": [
       "(array([0.00000000e+00, 4.13237375e-03, 9.53350860e-03, ...,\n",
       "        1.07664372e+02, 1.11634018e+02, 1.17507628e+02]),\n",
       " {'S': array([9800, 9799, 9798, ..., 1127, 1127, 1127]),\n",
       "  'E': array([0, 1, 2, ..., 0, 0, 0]),\n",
       "  'I': array([200, 200, 200, ...,   2,   1,   0]),\n",
       "  'R': array([   0,    0,    0, ..., 8871, 8872, 8873])})"
      ]
     },
     "execution_count": 37,
     "metadata": {},
     "output_type": "execute_result"
    }
   ],
   "source": [
    "res.summary()"
   ]
  }
 ],
 "metadata": {
  "kernelspec": {
   "display_name": "Python 3",
   "language": "python",
   "name": "python3"
  },
  "language_info": {
   "codemirror_mode": {
    "name": "ipython",
    "version": 3
   },
   "file_extension": ".py",
   "mimetype": "text/x-python",
   "name": "python",
   "nbconvert_exporter": "python",
   "pygments_lexer": "ipython3",
   "version": "3.6.10"
  }
 },
 "nbformat": 4,
 "nbformat_minor": 4
}

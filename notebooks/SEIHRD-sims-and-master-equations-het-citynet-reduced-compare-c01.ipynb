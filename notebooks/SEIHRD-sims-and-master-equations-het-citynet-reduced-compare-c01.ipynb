{
 "cells": [
  {
   "cell_type": "code",
   "execution_count": 1,
   "metadata": {},
   "outputs": [
    {
     "name": "stderr",
     "output_type": "stream",
     "text": [
      "/Users/agarbuno/anaconda2/envs/risknet/lib/python3.6/site-packages/ipykernel_launcher.py:12: TqdmExperimentalWarning: Using `tqdm.autonotebook.tqdm` in notebook mode. Use `tqdm.tqdm` instead to force console mode (e.g. in jupyter console)\n",
      "  if sys.path[0] == '':\n"
     ]
    }
   ],
   "source": [
    "import EoN\n",
    "import numpy as np\n",
    "import pandas as pd\n",
    "import networkx as nx\n",
    "from collections import defaultdict\n",
    "import random\n",
    "\n",
    "import matplotlib.pyplot as plt\n",
    "import scipy.sparse as sps\n",
    "import seaborn as sns\n",
    "\n",
    "from tqdm.autonotebook import tqdm\n",
    "import time\n",
    "\n",
    "plt.style.use('seaborn-white')\n",
    "sns.set_style(\"ticks\")\n",
    "sns.set_context(\"talk\")\n",
    "%matplotlib inline"
   ]
  },
  {
   "cell_type": "code",
   "execution_count": 2,
   "metadata": {},
   "outputs": [],
   "source": [
    "import sys\n",
    "sys.path.append('/Users/agarbuno/github-repos/collaborations/covid/risk-networks/risknet')"
   ]
  },
  {
   "cell_type": "code",
   "execution_count": 3,
   "metadata": {},
   "outputs": [],
   "source": [
    "%load_ext autoreload\n",
    "%autoreload 2\n",
    "import epimodels\n",
    "import ensemble\n",
    "import epitools"
   ]
  },
  {
   "cell_type": "code",
   "execution_count": 4,
   "metadata": {},
   "outputs": [],
   "source": [
    "# Load city-like network\n",
    "net_size = '1e4'\n",
    "edge_list = np.loadtxt('../data/networks/edge_list_SBM_%s.txt'%net_size, usecols = [0,1], dtype = int, skiprows = 1) \n",
    "G = nx.Graph([tuple(k) for k in edge_list])\n",
    "G = nx.relabel_nodes(G, dict(zip(list(G.nodes()), range(len(G)))))\n",
    "N = len(G)"
   ]
  },
  {
   "cell_type": "code",
   "execution_count": 5,
   "metadata": {},
   "outputs": [
    {
     "data": {
      "application/vnd.jupyter.widget-view+json": {
       "model_id": "87ef7f70a3f8484fa85dd3aa558d2fba",
       "version_major": 2,
       "version_minor": 0
      },
      "text/plain": [
       "HBox(children=(FloatProgress(value=0.0, max=9597.0), HTML(value='')))"
      ]
     },
     "metadata": {},
     "output_type": "display_data"
    },
    {
     "name": "stdout",
     "output_type": "stream",
     "text": [
      "\n"
     ]
    }
   ],
   "source": [
    "# Set city label\n",
    "city_classes = ['hospital', 'healthcare', 'city']\n",
    "city_classes_range = [range(int(float(net_size) * 0.005)), \n",
    "                 range(int(float(net_size) * 0.005), int(float(net_size) * 0.045)), \n",
    "                 range(int(float(net_size) * 0.045), N)]\n",
    "\n",
    "cohort = defaultdict()\n",
    "for node in tqdm(G.nodes):\n",
    "    if node in city_classes_range[0]:\n",
    "        cohort[node] = {'cohort': city_classes[0]}\n",
    "    elif node in city_classes_range[1]:\n",
    "        cohort[node] = {'cohort': city_classes[1]}\n",
    "    else:\n",
    "        cohort[node] = {'cohort': city_classes[2]}\n",
    "        \n",
    "nx.set_node_attributes(G, cohort)"
   ]
  },
  {
   "cell_type": "code",
   "execution_count": 6,
   "metadata": {},
   "outputs": [],
   "source": [
    "# latent period distribution: E -> I (σ)\n",
    "l_mean = 2 + 1.7 * 2\n",
    "# infectiousness duration outside hospitals: I -> . (γ)\n",
    "g_mean = 1 + 1.5 * 2\n",
    "# infectiousness duration in hospitals: H -> . (γ')\n",
    "gp_mean = 1 + 1.5 * 3\n",
    "\n",
    "\n",
    "# age structure King County, WA: https://datausa.io/profile/geo/king-county-wa#demographics\n",
    "# we use the age classes: 0--19, 20--44, 45--64, 65--74, >= 75\n",
    "age_classes = np.asarray([0.2298112587,0.3876994201,0.2504385036,0.079450985,0.0525998326])\n",
    "\n",
    "# age distribution in working population: 20--44 and 45--64\n",
    "age_classes_working = np.asarray([0.3876994201,0.2504385036])/sum([0.3876994201,0.2504385036])\n",
    "\n",
    "# age-dependent hospitalization and recovery rates\n",
    "\n",
    "fh = np.asarray([0.02, 0.17, 0.25, 0.35, 0.45])\n",
    "fd = np.asarray([1e-15, 0.001, 0.005, 0.02, 0.05])\n",
    "fdp = np.asarray([1e-15, 0.001, 0.01, 0.04, 0.1])\n",
    "\n",
    "# hospitalization fraction (a...age class integers to refer to 0--19, 20--44, 45--64, 65--74, >= 75)\n",
    "\n",
    "h_mean = lambda a: fh[a]\n",
    "d_mean = lambda a: fd[a]\n",
    "dp_mean = lambda a: fdp[a]\n",
    "\n",
    "# transmission\n",
    "\n",
    "beta0 = 0.05\n",
    "betap0 = 0.75*beta0\n"
   ]
  },
  {
   "cell_type": "code",
   "execution_count": 7,
   "metadata": {},
   "outputs": [
    {
     "data": {
      "application/vnd.jupyter.widget-view+json": {
       "model_id": "7e026bf6a47c448489045607f2d93e95",
       "version_major": 2,
       "version_minor": 0
      },
      "text/plain": [
       "HBox(children=(FloatProgress(value=1.0, bar_style='info', description='Building properties', max=1.0, style=Pr…"
      ]
     },
     "metadata": {},
     "output_type": "display_data"
    },
    {
     "name": "stdout",
     "output_type": "stream",
     "text": [
      "\n"
     ]
    }
   ],
   "source": [
    "attrs_dict = defaultdict()\n",
    "np.random.seed(1)\n",
    "\n",
    "for kk, node in tqdm(enumerate(list(G.nodes())), desc = 'Building properties'):\n",
    "    age_group = np.random.choice(len(age_classes), p = age_classes)\n",
    "\n",
    "    attrs = {\n",
    "        'age_group': age_group\n",
    "    }\n",
    "    \n",
    "    attrs_dict[node] = attrs\n",
    "    \n",
    "nx.set_node_attributes(G, attrs_dict)"
   ]
  },
  {
   "cell_type": "code",
   "execution_count": 8,
   "metadata": {},
   "outputs": [],
   "source": [
    "Gstar = G.copy()\n",
    "M = 100"
   ]
  },
  {
   "cell_type": "code",
   "execution_count": 9,
   "metadata": {},
   "outputs": [
    {
     "data": {
      "application/vnd.jupyter.widget-view+json": {
       "model_id": "bb84ef6a842c414eadfaa5ce7cd8be28",
       "version_major": 2,
       "version_minor": 0
      },
      "text/plain": [
       "HBox(children=(FloatProgress(value=0.0, description='List of graphs', style=ProgressStyle(description_width='i…"
      ]
     },
     "metadata": {},
     "output_type": "display_data"
    },
    {
     "name": "stdout",
     "output_type": "stream",
     "text": [
      "\n"
     ]
    }
   ],
   "source": [
    "Gs = list()\n",
    "\n",
    "for mm in tqdm(range(M), 'List of graphs'):\n",
    "    Gmm = Gstar.copy()\n",
    "    np.random.seed(mm)\n",
    "    attrs_dict = defaultdict()\n",
    "    \n",
    "    for kk, node in enumerate(list(Gstar.nodes())):\n",
    "        \n",
    "        cohort = Gstar.nodes[node]['cohort']\n",
    "        age_group = Gstar.nodes[node]['age_group']\n",
    "\n",
    "        g_samp    = 1/g_mean\n",
    "        gp_samp   = 1/gp_mean\n",
    "        h_samp    = h_mean(age_group)\n",
    "        d_samp    = d_mean(age_group)\n",
    "        dp_samp   = dp_mean(age_group)\n",
    "\n",
    "        attrs = {\n",
    "            'node'     : node, \n",
    "            'cohort'   : cohort,\n",
    "            'age_group': age_group,\n",
    "            'sigma'    : 1/l_mean,\n",
    "            'gamma'    : g_samp,\n",
    "            'gammap'   : gp_samp,\n",
    "            'theta'    : (1 - h_samp - d_samp) * g_samp,\n",
    "            'delta'    : h_samp * g_samp,\n",
    "            'mu'       : d_samp * g_samp,\n",
    "            'thetap'   : (1 - dp_samp) * gp_samp,\n",
    "            'mup'      : dp_samp * gp_samp\n",
    "        }\n",
    "    \n",
    "        attrs_dict[node] = attrs\n",
    "        \n",
    "    nx.set_node_attributes(Gmm, attrs_dict)\n",
    "    Gs.append(Gmm)\n",
    "    "
   ]
  },
  {
   "cell_type": "code",
   "execution_count": 10,
   "metadata": {},
   "outputs": [],
   "source": [
    "ens = ensemble.epiens(M, Gs, N)\n",
    "np.random.seed(1)\n",
    "ens.init(beta = 0.06, hom = False)"
   ]
  },
  {
   "cell_type": "code",
   "execution_count": 11,
   "metadata": {},
   "outputs": [],
   "source": [
    "for member in ens.ensemble:\n",
    "    infected = np.random.choice(N, replace = False, size = int(N * 0.01))\n",
    "    member.infected = infected\n",
    "    member.init_infected(infected)"
   ]
  },
  {
   "cell_type": "code",
   "execution_count": null,
   "metadata": {},
   "outputs": [
    {
     "data": {
      "application/vnd.jupyter.widget-view+json": {
       "model_id": "cf9875ecb679464e8bedba0f75fba1eb",
       "version_major": 2,
       "version_minor": 0
      },
      "text/plain": [
       "HBox(children=(FloatProgress(value=0.0, description='Simulations', style=ProgressStyle(description_width='init…"
      ]
     },
     "metadata": {},
     "output_type": "display_data"
    }
   ],
   "source": [
    "sims  = []\n",
    "\n",
    "return_statuses = ('S', 'E', 'I', 'H', 'R', 'D')\n",
    "\n",
    "for mm, member in tqdm(enumerate(ens.ensemble), desc = 'Simulations', total = M):\n",
    "    sim = member.simulate(return_statuses)\n",
    "    sims.append(sim)"
   ]
  },
  {
   "cell_type": "code",
   "execution_count": null,
   "metadata": {},
   "outputs": [],
   "source": [
    "axes = epitools.plot_eon_simulations(sims, alpha = .2)"
   ]
  },
  {
   "cell_type": "code",
   "execution_count": null,
   "metadata": {},
   "outputs": [],
   "source": [
    "times_plot = [5, 10, 15, 40]\n",
    "df = epitools.eon_sims_to_pandas(ens, sims, times_plot = times_plot)"
   ]
  },
  {
   "cell_type": "code",
   "execution_count": null,
   "metadata": {},
   "outputs": [],
   "source": [
    "ylims = [np.empty(2,), np.empty(2,)]\n",
    "ylims[0] = axes[0].get_ylim()\n",
    "ylims[1] = axes[1].get_ylim()"
   ]
  },
  {
   "cell_type": "code",
   "execution_count": null,
   "metadata": {},
   "outputs": [],
   "source": [
    "y0 = np.zeros([M, 5 * N])\n",
    "\n",
    "for mm, member in enumerate(ens.ensemble):\n",
    "    E, I, H, R, D = np.zeros([5, N])\n",
    "    S = np.ones(N,)\n",
    "    I[member.infected] = 1.\n",
    "    S[member.infected] = 0.\n",
    "    \n",
    "    y0[mm, : ] = np.hstack((S, I, H, R, D))"
   ]
  },
  {
   "cell_type": "code",
   "execution_count": null,
   "metadata": {},
   "outputs": [],
   "source": [
    "T = 40.\n",
    "t = np.linspace(0,T,201)\n",
    "ens.set_solver(T = T, dt = np.diff(t).min(), reduced = True)      "
   ]
  },
  {
   "cell_type": "code",
   "execution_count": null,
   "metadata": {},
   "outputs": [],
   "source": [
    "kes = {}"
   ]
  },
  {
   "cell_type": "code",
   "execution_count": null,
   "metadata": {},
   "outputs": [],
   "source": [
    "start_time = time.time()\n",
    "\n",
    "ke_euler = ens.ens_solve_euler(y0, t)\n",
    "elapsed_time = time.time() - start_time\n",
    "\n",
    "kes['indp'] = np.copy(ke_euler)\n",
    "\n",
    "tqdm.write('Runtime: ' + time.strftime(\"%H:%M:%S\", time.gmtime(elapsed_time)))"
   ]
  },
  {
   "cell_type": "code",
   "execution_count": null,
   "metadata": {},
   "outputs": [],
   "source": [
    "epitools.plot_eon_ode(sims, ke_euler, t, alpha = .2)"
   ]
  },
  {
   "cell_type": "code",
   "execution_count": null,
   "metadata": {},
   "outputs": [],
   "source": [
    "fig, axes = epitools.plot_node_probabilities(df, ke_euler, t)\n",
    "\n",
    "plt.suptitle(r'Kinetic vs ODE: Individual based', y = 1.04, fontsize = 25)\n",
    "\n",
    "files_directory = '/Users/agarbuno/github-repos/collaborations/covid/risk-networks/notebooks/imgs/'\n",
    "file = '%s-c01-indv-probs'%str(N).zfill(5)\n",
    "plt.savefig(files_directory+file+'.png', dpi=150)\n"
   ]
  },
  {
   "cell_type": "markdown",
   "metadata": {},
   "source": [
    "### **Case 3.** This solves the whole system with simple Euler steps, now with the pair-based covariance closure. "
   ]
  },
  {
   "cell_type": "code",
   "execution_count": null,
   "metadata": {},
   "outputs": [],
   "source": [
    "np.random.seed(1)\n",
    "\n",
    "start_time = time.time()\n",
    "\n",
    "ke_euler = ens.ens_solve_euler(y0, t, closure = 'covariance')\n",
    "kes['cov'] = np.copy(ke_euler)\n",
    "\n",
    "elapsed_time = time.time() - start_time\n",
    "tqdm.write('Runtime: ' + time.strftime(\"%H:%M:%S\", time.gmtime(elapsed_time)))"
   ]
  },
  {
   "cell_type": "code",
   "execution_count": null,
   "metadata": {},
   "outputs": [],
   "source": [
    "epitools.plot_eon_ode(sims, ke_euler, t, alpha = .2)"
   ]
  },
  {
   "cell_type": "code",
   "execution_count": null,
   "metadata": {},
   "outputs": [],
   "source": [
    "fig, axes = epitools.plot_node_probabilities(df, ke_euler, t)\n",
    "    \n",
    "plt.suptitle(r'Kinetic vs ODE: Covariance based', y = 1.04, fontsize = 25)\n",
    "fig.tight_layout(h_pad = 2.2, w_pad = .2)\n",
    "\n",
    "files_directory = '/Users/agarbuno/github-repos/collaborations/covid/risk-networks/notebooks/imgs/'\n",
    "file = '%s-c01-cov-probs'%str(N).zfill(5)\n",
    "plt.savefig(files_directory+file+'.png', dpi=150)"
   ]
  },
  {
   "cell_type": "markdown",
   "metadata": {},
   "source": [
    "### **Case 4.** This solves the whole system with simple Euler steps, now with the pair-based correlation closure. "
   ]
  },
  {
   "cell_type": "code",
   "execution_count": null,
   "metadata": {},
   "outputs": [],
   "source": [
    "np.random.seed(1)\n",
    "\n",
    "start_time = time.time()\n",
    "\n",
    "ke_euler = ens.ens_solve_euler(y0, t, closure = 'correlation')\n",
    "kes['corr'] = np.copy(ke_euler)\n",
    "\n",
    "elapsed_time = time.time() - start_time\n",
    "tqdm.write('Runtime: ' + time.strftime(\"%H:%M:%S\", time.gmtime(elapsed_time)))"
   ]
  },
  {
   "cell_type": "code",
   "execution_count": null,
   "metadata": {},
   "outputs": [],
   "source": [
    "epitools.plot_eon_ode(sims, ke_euler, t, alpha = .2)"
   ]
  },
  {
   "cell_type": "code",
   "execution_count": null,
   "metadata": {},
   "outputs": [],
   "source": [
    "fig, axes = epitools.plot_node_probabilities(df, ke_euler, t)\n",
    "    \n",
    "plt.suptitle(r'Kinetic vs ODE: Correlation based', y = 1.04, fontsize = 25)\n",
    "fig.tight_layout(h_pad = 2.2, w_pad = .2)\n",
    "\n",
    "files_directory = '/Users/agarbuno/github-repos/collaborations/covid/risk-networks/notebooks/imgs/'\n",
    "file = '%s-c01-corr-probs'%str(N).zfill(5)\n",
    "plt.savefig(files_directory+file+'.png', dpi=150)"
   ]
  },
  {
   "cell_type": "markdown",
   "metadata": {},
   "source": [
    "### **Case 5.** This solves the whole system with simple Euler steps, now with the weighted individual-based closure. "
   ]
  },
  {
   "cell_type": "code",
   "execution_count": null,
   "metadata": {},
   "outputs": [],
   "source": [
    "start_time = time.time()\n",
    "\n",
    "ke_euler = ens.ens_solve_euler(y0, t, closure = 'independent')\n",
    "kes['windp'] = np.copy(ke_euler)\n",
    "\n",
    "elapsed_time = time.time() - start_time\n",
    "tqdm.write('Runtime: ' + time.strftime(\"%H:%M:%S\", time.gmtime(elapsed_time)))"
   ]
  },
  {
   "cell_type": "code",
   "execution_count": null,
   "metadata": {},
   "outputs": [],
   "source": [
    "epitools.plot_eon_ode(sims, ke_euler, t, alpha = .2)"
   ]
  },
  {
   "cell_type": "code",
   "execution_count": null,
   "metadata": {},
   "outputs": [],
   "source": [
    "fig, axes = epitools.plot_node_probabilities(df, ke_euler, t)\n",
    "    \n",
    "plt.suptitle(r'Kinetic vs ODE: W-independent based', y = 1.04, fontsize = 25)\n",
    "fig.tight_layout(h_pad = 2.2, w_pad = .2)\n",
    "\n",
    "files_directory = '/Users/agarbuno/github-repos/collaborations/covid/risk-networks/notebooks/imgs/'\n",
    "file = '%s-c01-indp-probs'%str(N).zfill(5)\n",
    "plt.savefig(files_directory+file+'.png', dpi=150)"
   ]
  },
  {
   "cell_type": "code",
   "execution_count": null,
   "metadata": {},
   "outputs": [],
   "source": [
    "# for sim in sims:\n",
    "#     times, states = sim.summary()\n",
    "#     plt.plot(times, states['I']/N, color = 'C1', alpha = .05)\n",
    "\n",
    "styles= ['-', '--', '-.', ':']\n",
    "\n",
    "for kk, key in enumerate(kes.keys()):\n",
    "    qtys = np.percentile(kes[key].reshape(M, 5, -1, 201)[:,1,:,:].sum(axis = 1)/N, q = [5, 50, 95], axis = 0)\n",
    "    plt.plot(t, qtys[1], color = 'C1', linestyle = styles[kk], label = key)\n",
    "\n",
    "plt.xlim(-1, 40);\n",
    "plt.legend();\n"
   ]
  }
 ],
 "metadata": {
  "kernelspec": {
   "display_name": "Python 3",
   "language": "python",
   "name": "python3"
  },
  "language_info": {
   "codemirror_mode": {
    "name": "ipython",
    "version": 3
   },
   "file_extension": ".py",
   "mimetype": "text/x-python",
   "name": "python",
   "nbconvert_exporter": "python",
   "pygments_lexer": "ipython3",
   "version": "3.6.10"
  }
 },
 "nbformat": 4,
 "nbformat_minor": 4
}
